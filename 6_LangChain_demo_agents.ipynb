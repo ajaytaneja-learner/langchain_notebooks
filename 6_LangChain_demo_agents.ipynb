{
 "cells": [
  {
   "cell_type": "raw",
   "metadata": {
    "colab": {
     "base_uri": "https://localhost:8080/"
    },
    "id": "u8nDLcd6xItG",
    "outputId": "59686594-f672-4a5c-e7a6-76afe22688c8"
   },
   "source": [
    "!pip install openai\n",
    "!pip install --upgrade langchain\n",
    "!pip install google-search-results"
   ]
  },
  {
   "cell_type": "code",
   "execution_count": 16,
   "metadata": {
    "id": "bQjDHKTRx7_l"
   },
   "outputs": [],
   "source": [
    "from langchain.agents import load_tools\n",
    "from langchain.agents import initialize_agent\n",
    "from langchain.llms import OpenAI"
   ]
  },
  {
   "cell_type": "markdown",
   "metadata": {
    "id": "6w0KU-SyyOx4"
   },
   "source": [
    "**List of Tools:**\n",
    "\n",
    "1. serpapi [Complete] - A search engine. Useful for when you need to answer questions about current events. Input should be a search query.\n",
    "\n",
    "\n",
    "2. wolfram-alpha [Complete] - A wolfram alpha search engine for scientific questions"
   ]
  },
  {
   "cell_type": "code",
   "execution_count": 17,
   "metadata": {
    "id": "ANQs4t-wym3n"
   },
   "outputs": [],
   "source": [
    "import os\n",
    "os.environ['OPENAI_API_KEY'] = ''\n",
    "os.environ['SERPAPI_API_KEY'] = ''"
   ]
  },
  {
   "cell_type": "code",
   "execution_count": 18,
   "metadata": {
    "id": "4XoB2Ie0y4rg"
   },
   "outputs": [],
   "source": [
    "llm = OpenAI(temperature=0)"
   ]
  },
  {
   "cell_type": "code",
   "execution_count": 19,
   "metadata": {
    "id": "j-GQMOuHzaw_"
   },
   "outputs": [],
   "source": [
    "tool_names = [\"serpapi\"]\n",
    "tools = load_tools(tool_names)"
   ]
  },
  {
   "cell_type": "code",
   "execution_count": 20,
   "metadata": {
    "id": "8FLskJPsztIP"
   },
   "outputs": [],
   "source": [
    "agent = initialize_agent(tools, llm, agent=\"zero-shot-react-description\", verbose=True)"
   ]
  },
  {
   "cell_type": "code",
   "execution_count": 21,
   "metadata": {
    "colab": {
     "base_uri": "https://localhost:8080/",
     "height": 435
    },
    "id": "vhOfpmyfz-O_",
    "outputId": "6a5e6599-b768-4bd6-eec0-f680d39cc2f3"
   },
   "outputs": [
    {
     "name": "stdout",
     "output_type": "stream",
     "text": [
      "\n",
      "\n",
      "\u001b[1m> Entering new  chain...\u001b[0m\n",
      "\u001b[32;1m\u001b[1;3m I need to find out who the Prime Minister is and their age\n",
      "Action: Search\n",
      "Action Input: \"Prime Minister of the United Kingdom\"\u001b[0m\n",
      "Observation: \u001b[36;1m\u001b[1;3mRishi Sunak\u001b[0m\n",
      "Thought:\u001b[32;1m\u001b[1;3m I need to find out the age of the Prime Minister\n",
      "Action: Search\n",
      "Action Input: \"Age of Rishi Sunak\"\u001b[0m\n",
      "Observation: \u001b[36;1m\u001b[1;3m43 years\u001b[0m\n",
      "Thought:\u001b[32;1m\u001b[1;3m I now know the age of the Prime Minister\n",
      "Action: Calculate\n",
      "Action Input: 43\u001b[0m\n",
      "Observation: Calculate is not a valid tool, try another one.\n",
      "Thought:\u001b[32;1m\u001b[1;3m I need to calculate the square-root of the age\n",
      "Action: Search\n",
      "Action Input: \"Square-root of 43\"\u001b[0m\n",
      "Observation: \u001b[36;1m\u001b[1;3m6.557\u001b[0m\n",
      "Thought:\u001b[32;1m\u001b[1;3m I now know the final answer\n",
      "Final Answer: The Prime Minister of the United Kingdom is Rishi Sunak and the square-root of his age is 6.557.\u001b[0m\n",
      "\n",
      "\u001b[1m> Finished chain.\u001b[0m\n"
     ]
    },
    {
     "data": {
      "application/vnd.google.colaboratory.intrinsic+json": {
       "type": "string"
      },
      "text/plain": [
       "'The Prime Minister of the United Kingdom is Rishi Sunak and the square-root of his age is 6.557.'"
      ]
     },
     "execution_count": 21,
     "metadata": {},
     "output_type": "execute_result"
    }
   ],
   "source": [
    "agent.run(\"Who is the Prime Minister of the United Kingdom? What is the square-root of the age of the Prime Minister of United Kingdom\")"
   ]
  }
 ],
 "metadata": {
  "colab": {
   "provenance": []
  },
  "kernelspec": {
   "display_name": "Python 3 (ipykernel)",
   "language": "python",
   "name": "python3"
  },
  "language_info": {
   "codemirror_mode": {
    "name": "ipython",
    "version": 3
   },
   "file_extension": ".py",
   "mimetype": "text/x-python",
   "name": "python",
   "nbconvert_exporter": "python",
   "pygments_lexer": "ipython3",
   "version": "3.9.4"
  }
 },
 "nbformat": 4,
 "nbformat_minor": 1
}
